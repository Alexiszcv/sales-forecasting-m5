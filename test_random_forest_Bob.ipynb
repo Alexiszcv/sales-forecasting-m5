{
 "cells": [
  {
   "cell_type": "markdown",
   "id": "d7939d8b",
   "metadata": {},
   "source": [
    "# Projet DATBI: M5 Forecasting"
   ]
  },
  {
   "cell_type": "code",
   "execution_count": 133,
   "id": "f2b70f95",
   "metadata": {},
   "outputs": [],
   "source": [
    "import pandas as pd\n",
    "import numpy as np"
   ]
  },
  {
   "cell_type": "markdown",
   "id": "1cd34bab",
   "metadata": {},
   "source": [
    "## Partie 1: Visualisation des données"
   ]
  },
  {
   "cell_type": "code",
   "execution_count": 134,
   "id": "601053e2",
   "metadata": {},
   "outputs": [],
   "source": [
    "# Chargement des fichiers\n",
    "calendar = pd.read_csv('calendar.csv')\n",
    "sales_train_eval = pd.read_csv('sales_train_evaluation.csv', nrows=50)\n",
    "sales_train_val = pd.read_csv('sales_train_validation.csv', nrows=50)\n",
    "sample_submission = pd.read_csv('sample_submission.csv', nrows=50)\n",
    "sell_prices = pd.read_csv('sell_prices.csv', nrows=50)\n",
    "\n",
    "# Aperçu des données\n",
    "datasets = {\n",
    "    'calendar': calendar,\n",
    "    'sales_train_evaluation': sales_train_eval,\n",
    "    'sales_train_validation': sales_train_val,\n",
    "    'sample_submission': sample_submission,\n",
    "    'sell_prices': sell_prices\n",
    "}\n",
    "\n"
   ]
  },
  {
   "cell_type": "code",
   "execution_count": 135,
   "id": "b95fd37f",
   "metadata": {},
   "outputs": [
    {
     "name": "stdout",
     "output_type": "stream",
     "text": [
      "==== calendar ====\n",
      "         date  wm_yr_wk    weekday  wday  month  year    d event_name_1  \\\n",
      "0  2011-01-29     11101   Saturday     1      1  2011  d_1          NaN   \n",
      "1  2011-01-30     11101     Sunday     2      1  2011  d_2          NaN   \n",
      "2  2011-01-31     11101     Monday     3      1  2011  d_3          NaN   \n",
      "3  2011-02-01     11101    Tuesday     4      2  2011  d_4          NaN   \n",
      "4  2011-02-02     11101  Wednesday     5      2  2011  d_5          NaN   \n",
      "\n",
      "  event_type_1 event_name_2 event_type_2  snap_CA  snap_TX  snap_WI  \n",
      "0          NaN          NaN          NaN        0        0        0  \n",
      "1          NaN          NaN          NaN        0        0        0  \n",
      "2          NaN          NaN          NaN        0        0        0  \n",
      "3          NaN          NaN          NaN        1        1        0  \n",
      "4          NaN          NaN          NaN        1        0        1  \n",
      "\n",
      "Informations générales :\n",
      "<class 'pandas.core.frame.DataFrame'>\n",
      "RangeIndex: 1969 entries, 0 to 1968\n",
      "Data columns (total 14 columns):\n",
      " #   Column        Non-Null Count  Dtype \n",
      "---  ------        --------------  ----- \n",
      " 0   date          1969 non-null   object\n",
      " 1   wm_yr_wk      1969 non-null   int64 \n",
      " 2   weekday       1969 non-null   object\n",
      " 3   wday          1969 non-null   int64 \n",
      " 4   month         1969 non-null   int64 \n",
      " 5   year          1969 non-null   int64 \n",
      " 6   d             1969 non-null   object\n",
      " 7   event_name_1  162 non-null    object\n",
      " 8   event_type_1  162 non-null    object\n",
      " 9   event_name_2  5 non-null      object\n",
      " 10  event_type_2  5 non-null      object\n",
      " 11  snap_CA       1969 non-null   int64 \n",
      " 12  snap_TX       1969 non-null   int64 \n",
      " 13  snap_WI       1969 non-null   int64 \n",
      "dtypes: int64(7), object(7)\n",
      "memory usage: 215.5+ KB\n",
      "None\n",
      "\n",
      "Nombre de valeurs manquantes :\n",
      "date               0\n",
      "wm_yr_wk           0\n",
      "weekday            0\n",
      "wday               0\n",
      "month              0\n",
      "year               0\n",
      "d                  0\n",
      "event_name_1    1807\n",
      "event_type_1    1807\n",
      "event_name_2    1964\n",
      "event_type_2    1964\n",
      "snap_CA            0\n",
      "snap_TX            0\n",
      "snap_WI            0\n",
      "dtype: int64\n",
      "\n",
      "\n",
      "\n",
      "==== sales_train_evaluation ====\n",
      "                              id        item_id    dept_id   cat_id store_id  \\\n",
      "0  HOBBIES_1_001_CA_1_evaluation  HOBBIES_1_001  HOBBIES_1  HOBBIES     CA_1   \n",
      "1  HOBBIES_1_002_CA_1_evaluation  HOBBIES_1_002  HOBBIES_1  HOBBIES     CA_1   \n",
      "2  HOBBIES_1_003_CA_1_evaluation  HOBBIES_1_003  HOBBIES_1  HOBBIES     CA_1   \n",
      "3  HOBBIES_1_004_CA_1_evaluation  HOBBIES_1_004  HOBBIES_1  HOBBIES     CA_1   \n",
      "4  HOBBIES_1_005_CA_1_evaluation  HOBBIES_1_005  HOBBIES_1  HOBBIES     CA_1   \n",
      "\n",
      "  state_id  d_1  d_2  d_3  d_4  ...  d_1932  d_1933  d_1934  d_1935  d_1936  \\\n",
      "0       CA    0    0    0    0  ...       2       4       0       0       0   \n",
      "1       CA    0    0    0    0  ...       0       1       2       1       1   \n",
      "2       CA    0    0    0    0  ...       1       0       2       0       0   \n",
      "3       CA    0    0    0    0  ...       1       1       0       4       0   \n",
      "4       CA    0    0    0    0  ...       0       0       0       2       1   \n",
      "\n",
      "   d_1937  d_1938  d_1939  d_1940  d_1941  \n",
      "0       0       3       3       0       1  \n",
      "1       0       0       0       0       0  \n",
      "2       0       2       3       0       1  \n",
      "3       1       3       0       2       6  \n",
      "4       0       0       2       1       0  \n",
      "\n",
      "[5 rows x 1947 columns]\n",
      "\n",
      "Informations générales :\n",
      "<class 'pandas.core.frame.DataFrame'>\n",
      "RangeIndex: 50 entries, 0 to 49\n",
      "Columns: 1947 entries, id to d_1941\n",
      "dtypes: int64(1941), object(6)\n",
      "memory usage: 760.7+ KB\n",
      "None\n",
      "\n",
      "Nombre de valeurs manquantes :\n",
      "id          0\n",
      "item_id     0\n",
      "dept_id     0\n",
      "cat_id      0\n",
      "store_id    0\n",
      "           ..\n",
      "d_1937      0\n",
      "d_1938      0\n",
      "d_1939      0\n",
      "d_1940      0\n",
      "d_1941      0\n",
      "Length: 1947, dtype: int64\n",
      "\n",
      "\n",
      "\n",
      "==== sales_train_validation ====\n",
      "                              id        item_id    dept_id   cat_id store_id  \\\n",
      "0  HOBBIES_1_001_CA_1_validation  HOBBIES_1_001  HOBBIES_1  HOBBIES     CA_1   \n",
      "1  HOBBIES_1_002_CA_1_validation  HOBBIES_1_002  HOBBIES_1  HOBBIES     CA_1   \n",
      "2  HOBBIES_1_003_CA_1_validation  HOBBIES_1_003  HOBBIES_1  HOBBIES     CA_1   \n",
      "3  HOBBIES_1_004_CA_1_validation  HOBBIES_1_004  HOBBIES_1  HOBBIES     CA_1   \n",
      "4  HOBBIES_1_005_CA_1_validation  HOBBIES_1_005  HOBBIES_1  HOBBIES     CA_1   \n",
      "\n",
      "  state_id  d_1  d_2  d_3  d_4  ...  d_1904  d_1905  d_1906  d_1907  d_1908  \\\n",
      "0       CA    0    0    0    0  ...       1       3       0       1       1   \n",
      "1       CA    0    0    0    0  ...       0       0       0       0       0   \n",
      "2       CA    0    0    0    0  ...       2       1       2       1       1   \n",
      "3       CA    0    0    0    0  ...       1       0       5       4       1   \n",
      "4       CA    0    0    0    0  ...       2       1       1       0       1   \n",
      "\n",
      "   d_1909  d_1910  d_1911  d_1912  d_1913  \n",
      "0       1       3       0       1       1  \n",
      "1       1       0       0       0       0  \n",
      "2       1       0       1       1       1  \n",
      "3       0       1       3       7       2  \n",
      "4       1       2       2       2       4  \n",
      "\n",
      "[5 rows x 1919 columns]\n",
      "\n",
      "Informations générales :\n",
      "<class 'pandas.core.frame.DataFrame'>\n",
      "RangeIndex: 50 entries, 0 to 49\n",
      "Columns: 1919 entries, id to d_1913\n",
      "dtypes: int64(1913), object(6)\n",
      "memory usage: 749.7+ KB\n",
      "None\n",
      "\n",
      "Nombre de valeurs manquantes :\n",
      "id          0\n",
      "item_id     0\n",
      "dept_id     0\n",
      "cat_id      0\n",
      "store_id    0\n",
      "           ..\n",
      "d_1909      0\n",
      "d_1910      0\n",
      "d_1911      0\n",
      "d_1912      0\n",
      "d_1913      0\n",
      "Length: 1919, dtype: int64\n",
      "\n",
      "\n",
      "\n",
      "==== sample_submission ====\n",
      "                              id  F1  F2  F3  F4  F5  F6  F7  F8  F9  ...  \\\n",
      "0  HOBBIES_1_001_CA_1_validation   0   0   0   0   0   0   0   0   0  ...   \n",
      "1  HOBBIES_1_002_CA_1_validation   0   0   0   0   0   0   0   0   0  ...   \n",
      "2  HOBBIES_1_003_CA_1_validation   0   0   0   0   0   0   0   0   0  ...   \n",
      "3  HOBBIES_1_004_CA_1_validation   0   0   0   0   0   0   0   0   0  ...   \n",
      "4  HOBBIES_1_005_CA_1_validation   0   0   0   0   0   0   0   0   0  ...   \n",
      "\n",
      "   F19  F20  F21  F22  F23  F24  F25  F26  F27  F28  \n",
      "0    0    0    0    0    0    0    0    0    0    0  \n",
      "1    0    0    0    0    0    0    0    0    0    0  \n",
      "2    0    0    0    0    0    0    0    0    0    0  \n",
      "3    0    0    0    0    0    0    0    0    0    0  \n",
      "4    0    0    0    0    0    0    0    0    0    0  \n",
      "\n",
      "[5 rows x 29 columns]\n",
      "\n",
      "Informations générales :\n",
      "<class 'pandas.core.frame.DataFrame'>\n",
      "RangeIndex: 50 entries, 0 to 49\n",
      "Data columns (total 29 columns):\n",
      " #   Column  Non-Null Count  Dtype \n",
      "---  ------  --------------  ----- \n",
      " 0   id      50 non-null     object\n",
      " 1   F1      50 non-null     int64 \n",
      " 2   F2      50 non-null     int64 \n",
      " 3   F3      50 non-null     int64 \n",
      " 4   F4      50 non-null     int64 \n",
      " 5   F5      50 non-null     int64 \n",
      " 6   F6      50 non-null     int64 \n",
      " 7   F7      50 non-null     int64 \n",
      " 8   F8      50 non-null     int64 \n",
      " 9   F9      50 non-null     int64 \n",
      " 10  F10     50 non-null     int64 \n",
      " 11  F11     50 non-null     int64 \n",
      " 12  F12     50 non-null     int64 \n",
      " 13  F13     50 non-null     int64 \n",
      " 14  F14     50 non-null     int64 \n",
      " 15  F15     50 non-null     int64 \n",
      " 16  F16     50 non-null     int64 \n",
      " 17  F17     50 non-null     int64 \n",
      " 18  F18     50 non-null     int64 \n",
      " 19  F19     50 non-null     int64 \n",
      " 20  F20     50 non-null     int64 \n",
      " 21  F21     50 non-null     int64 \n",
      " 22  F22     50 non-null     int64 \n",
      " 23  F23     50 non-null     int64 \n",
      " 24  F24     50 non-null     int64 \n",
      " 25  F25     50 non-null     int64 \n",
      " 26  F26     50 non-null     int64 \n",
      " 27  F27     50 non-null     int64 \n",
      " 28  F28     50 non-null     int64 \n",
      "dtypes: int64(28), object(1)\n",
      "memory usage: 11.5+ KB\n",
      "None\n",
      "\n",
      "Nombre de valeurs manquantes :\n",
      "id     0\n",
      "F1     0\n",
      "F2     0\n",
      "F3     0\n",
      "F4     0\n",
      "F5     0\n",
      "F6     0\n",
      "F7     0\n",
      "F8     0\n",
      "F9     0\n",
      "F10    0\n",
      "F11    0\n",
      "F12    0\n",
      "F13    0\n",
      "F14    0\n",
      "F15    0\n",
      "F16    0\n",
      "F17    0\n",
      "F18    0\n",
      "F19    0\n",
      "F20    0\n",
      "F21    0\n",
      "F22    0\n",
      "F23    0\n",
      "F24    0\n",
      "F25    0\n",
      "F26    0\n",
      "F27    0\n",
      "F28    0\n",
      "dtype: int64\n",
      "\n",
      "\n",
      "\n",
      "==== sell_prices ====\n",
      "  store_id        item_id  wm_yr_wk  sell_price\n",
      "0     CA_1  HOBBIES_1_001     11325        9.58\n",
      "1     CA_1  HOBBIES_1_001     11326        9.58\n",
      "2     CA_1  HOBBIES_1_001     11327        8.26\n",
      "3     CA_1  HOBBIES_1_001     11328        8.26\n",
      "4     CA_1  HOBBIES_1_001     11329        8.26\n",
      "\n",
      "Informations générales :\n",
      "<class 'pandas.core.frame.DataFrame'>\n",
      "RangeIndex: 50 entries, 0 to 49\n",
      "Data columns (total 4 columns):\n",
      " #   Column      Non-Null Count  Dtype  \n",
      "---  ------      --------------  -----  \n",
      " 0   store_id    50 non-null     object \n",
      " 1   item_id     50 non-null     object \n",
      " 2   wm_yr_wk    50 non-null     int64  \n",
      " 3   sell_price  50 non-null     float64\n",
      "dtypes: float64(1), int64(1), object(2)\n",
      "memory usage: 1.7+ KB\n",
      "None\n",
      "\n",
      "Nombre de valeurs manquantes :\n",
      "store_id      0\n",
      "item_id       0\n",
      "wm_yr_wk      0\n",
      "sell_price    0\n",
      "dtype: int64\n",
      "\n",
      "\n",
      "\n"
     ]
    }
   ],
   "source": [
    "for name, df in datasets.items():\n",
    "    print(f\"==== {name} ====\")\n",
    "    print(df.head())\n",
    "    print(\"\\nInformations générales :\")\n",
    "    print(df.info())\n",
    "    print(\"\\nNombre de valeurs manquantes :\")\n",
    "    print(df.isnull().sum())\n",
    "    print(\"\\n\\n\")"
   ]
  },
  {
   "cell_type": "markdown",
   "id": "6d7f5ff8",
   "metadata": {},
   "source": [
    "Il semblerait qu'il n'y aie des données manquantes que dans calendar, dans les colonnes event_name_1 et event_name_2, event_type_1, event_type_2.  \n",
    "\n",
    "On va simplement remplacer les NaN par \"None.\". On part donc du principe que si il n'y a pas de données c'est qu'il n'y avait pas d'évènements ce jour là. \n",
    "\n",
    "En effet comme il y a 90% de NaN dans ces colonnes, on peut penser que pour la grande majorité des jours c'est simplement qu'il n'y avait pas d'évènements.\n",
    "\n",
    "Nous allons ensuite simplement merge les données"
   ]
  },
  {
   "cell_type": "markdown",
   "id": "b1c51e2e",
   "metadata": {},
   "source": [
    "Visualisons tout de même la distribution des ventes"
   ]
  },
  {
   "cell_type": "code",
   "execution_count": 136,
   "id": "c7e093ea",
   "metadata": {},
   "outputs": [
    {
     "data": {
      "image/png": "[encoded data removed]",
      "text/plain": [
       "<Figure size 800x500 with 1 Axes>"
      ]
     },
     "metadata": {},
     "output_type": "display_data"
    }
   ],
   "source": [
    "import matplotlib.pyplot as plt\n",
    "\n",
    "# Plot de la distribution\n",
    "plt.figure(figsize=(8, 5))\n",
    "plt.hist(y_valid, bins=50, edgecolor='k')\n",
    "plt.title(\"Distribution des ventes dans l'ensemble de validation\")\n",
    "plt.xlabel(\"Nombre de ventes\")\n",
    "plt.ylabel(\"Nombre d'occurrences\")\n",
    "plt.yscale('log')  # log-échelle pour mieux voir les petites fréquences\n",
    "plt.grid(True)\n",
    "plt.show()\n"
   ]
  },
  {
   "cell_type": "markdown",
   "id": "0b034bef",
   "metadata": {},
   "source": [
    "## Partie 2: Traitement des données"
   ]
  },
  {
   "cell_type": "code",
   "execution_count": 137,
   "id": "dc77e96b",
   "metadata": {},
   "outputs": [],
   "source": [
    "from sklearn.preprocessing import LabelEncoder"
   ]
  },
  {
   "cell_type": "markdown",
   "id": "d806c6c8",
   "metadata": {},
   "source": [
    "On commence par appliquer une transformation cyclique pour le jour de la semaine (1 à 7) et le mois de l'année (1 à 12)"
   ]
  },
  {
   "cell_type": "code",
   "execution_count": 138,
   "id": "1ea85b02",
   "metadata": {},
   "outputs": [],
   "source": [
    "# Transformation cyclique pour le jour de la semaine (1-7)\n",
    "calendar['wday_sin'] = np.sin(2 * np.pi * calendar['wday'] / 7)\n",
    "calendar['wday_cos'] = np.cos(2 * np.pi * calendar['wday'] / 7)\n",
    "\n",
    "# Pour le mois (1-12)\n",
    "calendar['month_sin'] = np.sin(2 * np.pi * calendar['month'] / 12)\n",
    "calendar['month_cos'] = np.cos(2 * np.pi * calendar['month'] / 12)\n"
   ]
  },
  {
   "cell_type": "code",
   "execution_count": 139,
   "id": "ced03aca",
   "metadata": {},
   "outputs": [
    {
     "name": "stderr",
     "output_type": "stream",
     "text": [
      "C:\\Users\\alexa\\AppData\\Local\\Temp\\ipykernel_29280\\2853399018.py:4: FutureWarning: A value is trying to be set on a copy of a DataFrame or Series through chained assignment using an inplace method.\n",
      "The behavior will change in pandas 3.0. This inplace method will never work because the intermediate object on which we are setting values always behaves as a copy.\n",
      "\n",
      "For example, when doing 'df[col].method(value, inplace=True)', try using 'df.method({col: value}, inplace=True)' or df[col] = df[col].method(value) instead, to perform the operation inplace on the original object.\n",
      "\n",
      "\n",
      "  calendar['event_name_1'].fillna('None', inplace=True)\n",
      "C:\\Users\\alexa\\AppData\\Local\\Temp\\ipykernel_29280\\2853399018.py:5: FutureWarning: A value is trying to be set on a copy of a DataFrame or Series through chained assignment using an inplace method.\n",
      "The behavior will change in pandas 3.0. This inplace method will never work because the intermediate object on which we are setting values always behaves as a copy.\n",
      "\n",
      "For example, when doing 'df[col].method(value, inplace=True)', try using 'df.method({col: value}, inplace=True)' or df[col] = df[col].method(value) instead, to perform the operation inplace on the original object.\n",
      "\n",
      "\n",
      "  calendar['event_type_1'].fillna('None', inplace=True)\n"
     ]
    }
   ],
   "source": [
    "#création du dataset d'entrainement:\n",
    "\n",
    "# 1. traitement des NaN de calendar\n",
    "calendar['event_name_1'].fillna('None', inplace=True)\n",
    "calendar['event_type_1'].fillna('None', inplace=True)\n",
    "\n",
    "# 2. Préparer sales en format \"long\"\n",
    "sales = sales_train_val.melt(id_vars=['id', 'item_id', 'dept_id', 'cat_id', 'store_id', 'state_id'],\n",
    "                   var_name='d',\n",
    "                   value_name='sales')\n",
    "\n",
    "# 3. Merge avec calendar\n",
    "sales = sales.merge(calendar, how='left', on='d')\n",
    "\n",
    "# 4. Merge avec prices\n",
    "sales = sales.merge(sell_prices, how='left', on=['store_id', 'item_id', 'wm_yr_wk'])\n",
    "\n",
    "# 5. Encodage label des catégories\n",
    "for col in ['item_id', 'dept_id', 'cat_id', 'store_id', 'state_id', 'event_name_1', 'event_type_1', 'weekday']:\n",
    "    sales[col] = LabelEncoder().fit_transform(sales[col])\n",
    "\n",
    "# 6. Features (X) et target (y)\n",
    "features = ['item_id', 'dept_id', 'cat_id', 'store_id', 'state_id', 'snap_CA', 'snap_TX', 'snap_WI',\n",
    "            'event_name_1', 'event_type_1', 'weekday', 'month', 'year', 'sell_price']\n",
    "\n",
    "X = sales[features]\n",
    "y = sales['sales']\n",
    "\n",
    "# 7. Séparer un train/test simple\n",
    "X_train = X[sales['d'] < 'd_1913']\n",
    "y_train = y[sales['d'] < 'd_1913']\n",
    "X_valid = X[sales['d'] >= 'd_1913']\n",
    "y_valid = y[sales['d'] >= 'd_1913']"
   ]
  },
  {
   "cell_type": "markdown",
   "id": "714fb063",
   "metadata": {},
   "source": [
    "## Partie 3: Random Forest Regressor"
   ]
  },
  {
   "cell_type": "code",
   "execution_count": null,
   "id": "b5bdaba0",
   "metadata": {},
   "outputs": [],
   "source": [
    "from sklearn.ensemble import RandomForestRegressor"
   ]
  },
  {
   "cell_type": "code",
   "execution_count": 141,
   "id": "f6ba6d30",
   "metadata": {},
   "outputs": [],
   "source": [
    "# 8. Modèle Random Forest\n",
    "model = RandomForestRegressor(n_estimators=100, max_depth=20, random_state=42, n_jobs=-1)\n",
    "model.fit(X_train, y_train)\n",
    "\n",
    "# 9. Prédiction\n",
    "y_pred = model.predict(X_valid)"
   ]
  },
  {
   "cell_type": "markdown",
   "id": "4ba5df1f",
   "metadata": {},
   "source": [
    "## Partie 4: Evaluation de la qualité du modèle"
   ]
  },
  {
   "cell_type": "code",
   "execution_count": 142,
   "id": "c12602ae",
   "metadata": {},
   "outputs": [],
   "source": [
    "from sklearn.metrics import mean_squared_error\n",
    "from sklearn.metrics import mean_absolute_error"
   ]
  },
  {
   "cell_type": "code",
   "execution_count": 143,
   "id": "bf443ea5",
   "metadata": {},
   "outputs": [
    {
     "name": "stdout",
     "output_type": "stream",
     "text": [
      "Validation RMSE: 3.3860\n",
      "Validation MAE: 1.3473\n"
     ]
    }
   ],
   "source": [
    "# 10. Évaluation\n",
    "rmse = np.sqrt(mean_squared_error(y_valid, y_pred))\n",
    "print(f\"Validation RMSE: {rmse:.4f}\")\n",
    "\n",
    "# Calcul du MAE sur la validation\n",
    "mae = mean_absolute_error(y_valid, y_pred)\n",
    "\n",
    "print(f\"Validation MAE: {mae:.4f}\")"
   ]
  },
  {
   "cell_type": "markdown",
   "id": "9e6b4952",
   "metadata": {},
   "source": [
    "On souhaite à présent comparer la RMSE aux données pour connaitre la qualité de mon modèle"
   ]
  },
  {
   "cell_type": "code",
   "execution_count": 144,
   "id": "77ed9e40",
   "metadata": {},
   "outputs": [
    {
     "name": "stdout",
     "output_type": "stream",
     "text": [
      "Moyenne des ventes (ensemble de validation) : 1.1331995540691193\n"
     ]
    }
   ],
   "source": [
    "print(\"Moyenne des ventes (ensemble de validation) :\", y_valid.mean())\n"
   ]
  },
  {
   "cell_type": "markdown",
   "id": "64221591",
   "metadata": {},
   "source": [
    "On compare avec la baseline \"toujours prédire 0\" car on a constaté beaucoup de ventes à 0 dans l'histogramme des ventes"
   ]
  },
  {
   "cell_type": "code",
   "execution_count": 145,
   "id": "93673cf7",
   "metadata": {},
   "outputs": [
    {
     "name": "stdout",
     "output_type": "stream",
     "text": [
      "Baseline RMSE (toujours 0): 3.5726\n",
      "Baseline MAE (toujours 0): 1.1332\n"
     ]
    }
   ],
   "source": [
    "# 1. Baseline \"toujours prédire 0\"\n",
    "baseline_pred = np.zeros_like(y_valid)\n",
    "\n",
    "# Calcul pour la baseline\n",
    "baseline_rmse = np.sqrt(mean_squared_error(y_valid, baseline_pred))\n",
    "baseline_mae = mean_absolute_error(y_valid, baseline_pred)\n",
    "\n",
    "print(f\"Baseline RMSE (toujours 0): {baseline_rmse:.4f}\")\n",
    "print(f\"Baseline MAE (toujours 0): {baseline_mae:.4f}\")"
   ]
  },
  {
   "cell_type": "markdown",
   "id": "eb0865cf",
   "metadata": {},
   "source": [
    "Pour l'instant on a Random Forest RMSE< Baseline RMSE. Ainsi notre modèle comprend mieux les jours avec beaucoup de ventes. \n",
    "En revanche, Random Forest MAE> Baseline MAE ce qui traduit que notre modèle fait beaucoup d'erreurs sur les jours \"classiques\" à 0 ou 1 vente."
   ]
  },
  {
   "cell_type": "markdown",
   "id": "a0410e4f",
   "metadata": {},
   "source": [
    "Le modèle de Random Forest utilisé jusqu'alors n'est donc pas excellent"
   ]
  },
  {
   "cell_type": "markdown",
   "id": "f16c09c9",
   "metadata": {},
   "source": [
    "## Partie 5: Amélioration du modèle"
   ]
  },
  {
   "cell_type": "markdown",
   "id": "060a1d5d",
   "metadata": {},
   "source": [
    "On va ajouter des lags et des moyennes glissantes. \n",
    "Ainsi cela permettra au random forest de:\n",
    "- voir les ventes précédentes exactes (grâce aux lags)\n",
    "- voir la tendance générale (grâce aux moyennes glissantes)"
   ]
  },
  {
   "cell_type": "code",
   "execution_count": 146,
   "id": "81f0ccad",
   "metadata": {},
   "outputs": [],
   "source": [
    "# Assurons-nous que sales est bien trié\n",
    "sales = sales.sort_values(['id', 'd'])\n",
    "\n",
    "# 1. Ajouter des lags\n",
    "for lag in [1, 7, 14, 28]:\n",
    "    sales[f'lag_{lag}'] = sales.groupby('id')['sales'].shift(lag)\n",
    "\n",
    "# 2. Ajouter des rolling means\n",
    "for window in [3, 7, 14, 28]:\n",
    "    sales[f'rolling_mean_{window}'] = sales.groupby('id')['sales'].shift(1).rolling(window).mean()\n",
    "\n",
    "# Enlever les lignes où il manque des lags ou des rollings\n",
    "sales = sales.dropna(subset=[f'lag_{lag}' for lag in [1,7,14,28]] + \n",
    "                            [f'rolling_mean_{window}' for window in [3,7,14,28]])\n"
   ]
  },
  {
   "cell_type": "code",
   "execution_count": 147,
   "id": "868bed0c",
   "metadata": {},
   "outputs": [],
   "source": [
    "features = [\n",
    "    'item_id', 'dept_id', 'cat_id', 'store_id', 'state_id', \n",
    "    'snap_CA', 'snap_TX', 'snap_WI',\n",
    "    'event_name_1', 'event_type_1', 'weekday', 'month', 'year', 'sell_price',\n",
    "    'lag_1', 'lag_7', 'lag_14', 'lag_28',\n",
    "    'rolling_mean_3', 'rolling_mean_7', 'rolling_mean_14', 'rolling_mean_28'\n",
    "]\n",
    "\n"
   ]
  },
  {
   "cell_type": "code",
   "execution_count": 148,
   "id": "cb03d051",
   "metadata": {},
   "outputs": [
    {
     "name": "stdout",
     "output_type": "stream",
     "text": [
      "Validation RMSE: 3.2512\n",
      "Validation MAE: 1.3042\n"
     ]
    }
   ],
   "source": [
    "X = sales[features]\n",
    "y = sales['sales']\n",
    "\n",
    "# Split en train/valid\n",
    "X_train = X[sales['d'] < 'd_1913']\n",
    "y_train = y[sales['d'] < 'd_1913']\n",
    "X_valid = X[sales['d'] >= 'd_1913']\n",
    "y_valid = y[sales['d'] >= 'd_1913']\n",
    "\n",
    "# Modèle Random Forest\n",
    "model = RandomForestRegressor(n_estimators=100, max_depth=20, random_state=42, n_jobs=-1)\n",
    "model.fit(X_train, y_train)\n",
    "\n",
    "# Prédictions\n",
    "y_pred = model.predict(X_valid)\n",
    "\n",
    "print(f\"Validation RMSE: {np.sqrt(mean_squared_error(y_valid, y_pred)):.4f}\")\n",
    "print(f\"Validation MAE: {mean_absolute_error(y_valid, y_pred):.4f}\")\n"
   ]
  },
  {
   "cell_type": "markdown",
   "id": "15c9c98b",
   "metadata": {},
   "source": [
    "On a ainsi amélioré notre RMSE et MAE. Notre modèle est meilleure.\n",
    "\n",
    "Mais on a toujours MAE modèle > 1.1332 donc en moyenne le modèle fait plus d'erreurs que de prédire 0 partout"
   ]
  }
 ],
 "metadata": {
  "kernelspec": {
   "display_name": "base",
   "language": "python",
   "name": "python3"
  },
  "language_info": {
   "codemirror_mode": {
    "name": "ipython",
    "version": 3
   },
   "file_extension": ".py",
   "mimetype": "text/x-python",
   "name": "python",
   "nbconvert_exporter": "python",
   "pygments_lexer": "ipython3",
   "version": "3.12.7"
  }
 },
 "nbformat": 4,
 "nbformat_minor": 5
}
